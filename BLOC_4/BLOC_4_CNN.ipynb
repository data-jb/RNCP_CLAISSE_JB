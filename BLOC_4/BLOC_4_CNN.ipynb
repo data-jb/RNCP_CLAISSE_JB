{
  "cells": [
    {
      "cell_type": "markdown",
      "source": [
        "<center><h1 style=\"font-size: 28px;\"><b>Bloc n°4 - Analyse prédictive de données non-structurées par l'intelligence artificielle\n",
        "</b></h1></center>"
      ],
      "metadata": {
        "id": "5sF6hMmp_v96"
      }
    },
    {
      "cell_type": "markdown",
      "source": [
        "## 1. Travail préparatoire"
      ],
      "metadata": {
        "id": "zuIka9UoBOin"
      }
    },
    {
      "cell_type": "markdown",
      "metadata": {
        "id": "BlAp_D0kemAN"
      },
      "source": [
        "## 1.1 Imports des packages nécéssaires"
      ]
    },
    {
      "cell_type": "code",
      "source": [
        "!pip install split-folders\n"
      ],
      "metadata": {
        "colab": {
          "base_uri": "https://localhost:8080/"
        },
        "id": "Fbdm7aPK3Zdu",
        "outputId": "eb0d69d2-e9f7-4a08-b429-ae1ff46338c8"
      },
      "execution_count": null,
      "outputs": [
        {
          "output_type": "stream",
          "name": "stdout",
          "text": [
            "Collecting split-folders\n",
            "  Downloading split_folders-0.5.1-py3-none-any.whl (8.4 kB)\n",
            "Installing collected packages: split-folders\n",
            "Successfully installed split-folders-0.5.1\n"
          ]
        }
      ]
    },
    {
      "cell_type": "code",
      "execution_count": null,
      "metadata": {
        "colab": {
          "base_uri": "https://localhost:8080/"
        },
        "id": "vBr4VSx-emAO",
        "outputId": "435635be-5ae9-44f1-e60a-4a67a4187b68"
      },
      "outputs": [
        {
          "output_type": "stream",
          "name": "stdout",
          "text": [
            "Drive already mounted at /content/drive; to attempt to forcibly remount, call drive.mount(\"/content/drive\", force_remount=True).\n"
          ]
        }
      ],
      "source": [
        "# Paramètrage spécifique pour fonctionner avec google colab\n",
        "from google.colab import drive\n",
        "drive.mount('/content/drive')"
      ]
    },
    {
      "cell_type": "code",
      "execution_count": null,
      "metadata": {
        "colab": {
          "base_uri": "https://localhost:8080/"
        },
        "id": "jbP4qVmHemAP",
        "outputId": "a3b743c4-40d4-44ec-a62b-ce3ad32969d7"
      },
      "outputs": [
        {
          "output_type": "stream",
          "name": "stdout",
          "text": [
            "/content/drive/MyDrive\n"
          ]
        }
      ],
      "source": [
        "import os\n",
        "# Obtenir et enregistrer le chemin de travail par défaut\n",
        "user_path = os.path.join(os.getcwd(), \"drive\", \"MyDrive\")\n",
        "\n",
        "print(user_path)"
      ]
    },
    {
      "cell_type": "code",
      "source": [
        "# GOOGLE Colab ONLY\n",
        "\n",
        "import splitfolders\n",
        "#3 dossiers (train, val, test)\n",
        "splitfolders.ratio(os.path.join(user_path, \"Animaux\"),\n",
        "                   output = os.path.join(user_path, \"Animaux_SPLIT\"),\n",
        "                   seed = 42,\n",
        "                   ratio = (.7, .2, .1), #pour 3 args, train/val/test\n",
        "                   group_prefix = None,\n",
        "                   move = False)"
      ],
      "metadata": {
        "colab": {
          "base_uri": "https://localhost:8080/"
        },
        "id": "Ykqxdx8qlKDz",
        "outputId": "65cce020-5e9b-431f-f35f-2a68ca23087a"
      },
      "execution_count": null,
      "outputs": [
        {
          "output_type": "stream",
          "name": "stderr",
          "text": [
            "Copying files: 6000 files [02:20, 42.57 files/s] \n"
          ]
        }
      ]
    },
    {
      "cell_type": "markdown",
      "metadata": {
        "id": "hKvyhHs8emAP"
      },
      "source": [
        "## 1.2 Import des librairies"
      ]
    },
    {
      "cell_type": "code",
      "execution_count": null,
      "metadata": {
        "id": "JF4vzg-gemAP"
      },
      "outputs": [],
      "source": [
        "import numpy as np\n",
        "import matplotlib.pyplot as plt\n",
        "\n",
        "# Machine Learning\n",
        "import keras\n",
        "from keras.models import Model\n",
        "from keras.preprocessing.image import ImageDataGenerator\n",
        "from keras.layers import Dense, Dropout, GlobalAveragePooling2D, BatchNormalization\n",
        "from keras.optimizers import Adam, Nadam, SGD, RMSprop\n",
        "from sklearn.metrics import confusion_matrix, classification_report\n",
        "from keras.applications import EfficientNetB1, EfficientNetB2, EfficientNetB3, EfficientNetV2B1, EfficientNetV2B2, EfficientNetV2B3"
      ]
    },
    {
      "cell_type": "markdown",
      "metadata": {
        "id": "DQdjU0A5emAP"
      },
      "source": [
        "## 3. Traitement d'images"
      ]
    },
    {
      "cell_type": "markdown",
      "metadata": {
        "id": "kX8MVJRcemAQ"
      },
      "source": [
        "### 3.1 Configuation des chemin vers les dossiers contenant les images"
      ]
    },
    {
      "cell_type": "code",
      "execution_count": null,
      "metadata": {
        "id": "PIdGJMzpemAQ"
      },
      "outputs": [],
      "source": [
        "# GOOGLE Colab ONLY\n",
        "train_dir = os.path.join(user_path, \"Animaux_SPLIT\", \"train\")\n",
        "val_dir = os.path.join(user_path, \"Animaux_SPLIT\", \"val\")\n",
        "test_dir = os.path.join(user_path, \"Animaux_SPLIT\", \"test\")\n"
      ]
    },
    {
      "cell_type": "markdown",
      "metadata": {
        "id": "QHW6WnPAemAQ"
      },
      "source": [
        "### 3.2 Data augmentation techniques"
      ]
    },
    {
      "cell_type": "code",
      "execution_count": null,
      "metadata": {
        "id": "ZK-ZzciMemAQ"
      },
      "outputs": [],
      "source": [
        "train_datagen = ImageDataGenerator(\n",
        "    rescale = 1./255,\n",
        "    shear_range = 0.2,\n",
        "    rotation_range = 20,\n",
        "    width_shift_range = 0.1,\n",
        "    height_shift_range = 0.1,\n",
        "    zoom_range = [0.9, 1.25],\n",
        "    brightness_range = [0.5, 1.5],\n",
        "    horizontal_flip = True,\n",
        "    vertical_flip = True\n",
        ")\n",
        "\n",
        "val_datagen = ImageDataGenerator(\n",
        "    rescale = 1./255)\n",
        "\n",
        "test_datagen = ImageDataGenerator(\n",
        "    rescale = 1./255)"
      ]
    },
    {
      "cell_type": "markdown",
      "metadata": {
        "id": "WRkMK4fkemAQ"
      },
      "source": [
        "### 3.3 Définition des train et val générators"
      ]
    },
    {
      "cell_type": "code",
      "execution_count": null,
      "metadata": {
        "colab": {
          "base_uri": "https://localhost:8080/"
        },
        "id": "D4phESX4emAQ",
        "outputId": "ad8b61d4-b30a-4a30-fb20-66cb461763d5"
      },
      "outputs": [
        {
          "output_type": "stream",
          "name": "stdout",
          "text": [
            "Found 4200 images belonging to 3 classes.\n",
            "Found 1200 images belonging to 3 classes.\n",
            "Found 600 images belonging to 3 classes.\n"
          ]
        }
      ],
      "source": [
        "# Variables\n",
        "batch_size = 32\n",
        "height = 240\n",
        "width = 240\n",
        "# images de taille 240x240 px avec 3 canaux de couleur RGB automatiquement\n",
        "image_shape = (height, width)\n",
        "\n",
        "\n",
        "train_generator = train_datagen.flow_from_directory(\n",
        "    train_dir,\n",
        "    class_mode = \"categorical\",\n",
        "    target_size = image_shape,\n",
        "    batch_size = batch_size\n",
        ")\n",
        "\n",
        "val_generator = val_datagen.flow_from_directory(\n",
        "    val_dir,\n",
        "    class_mode = \"categorical\",\n",
        "    target_size = image_shape,\n",
        "    batch_size = batch_size\n",
        ")\n",
        "\n",
        "test_generator = test_datagen.flow_from_directory(\n",
        "    test_dir,\n",
        "    class_mode = \"categorical\",\n",
        "    target_size = image_shape,\n",
        "    batch_size = batch_size,\n",
        "    shuffle = False\n",
        ")"
      ]
    },
    {
      "cell_type": "markdown",
      "metadata": {
        "id": "A3cnA4ViemAR"
      },
      "source": [
        "## 4. Construction du modèle"
      ]
    },
    {
      "cell_type": "code",
      "execution_count": null,
      "metadata": {
        "id": "ym0iQikpemAR"
      },
      "outputs": [],
      "source": [
        "# Modèle utilisé\n",
        "\n",
        "model_name = \"EfficientNetV2B1\"\n",
        "ModelNameFunc = globals()[model_name]\n",
        "\n",
        "# Arichitecture du modèle\n",
        "l1_neurons = 32                 # Number of neurons on layer 1 (deeper)\n",
        "l1_activation = \"relu\"\n",
        "dropout = 0.4                   # 0.2 - 0.5\n",
        "l2_neurons = 16                 # Number of neurons on layer 2\n",
        "l2_activation = \"relu\"\n",
        "output_neurons = 3              # This layer will have 3 neurons or units fully connected. In line with our 3 classes.\n",
        "output_activation = \"softmax\"\n",
        "\n",
        "# Metrics (parameter average = \"macro\" by default )\n",
        "precision = keras.metrics.Precision(name=\"Precision\")\n",
        "recall = keras.metrics.Recall(name=\"Recall\")\n",
        "#f1 = keras.metrics.F1Score(name = \"F1\")\n",
        "auc = keras.metrics.AUC(name=\"AUC\")\n",
        "\n",
        "\n",
        "# TRAIN : model.compile\n",
        "compile_optimizer = \"RMSprop\"                  # Test : Nadam, RMSprop, SGD\n",
        "compile_loss = \"categorical_crossentropy\"   # More than 2 classes, so categorical\n",
        "compile_metrics = [\"accuracy\", precision, recall, auc]\n",
        "\n",
        "# TRAIN : model.fit\n",
        "epochs = 30\n",
        "verbose = 1\n",
        "\n",
        "# FINE TUNE : model.compile\n",
        "ft_compile_optimizer = RMSprop(learning_rate = 1e-5)\n",
        "# ft_compile_optimizer : Very low learning rate. Test : Nadam, RMSprop, SGD\n",
        "ft_compile_loss = \"categorical_crossentropy\"\n",
        "ft_compile_metrics = [\"accuracy\", precision, recall, auc]\n",
        "\n",
        "# FINE TUNE : model.fit\n",
        "ft_epochs = 15\n",
        "ft_verbose = 1\n",
        "\n",
        "# Sauvegarde : File Path .h5\n",
        "fileh5_path = os.path.join(user_path, f\"{model_name}_H5_Model\", f\"{model_name}_TRAIN_ManualSave.h5\")\n",
        "ft_fileh5_path = os.path.join(user_path, f\"{model_name}_H5_Model\", f\"{model_name}_FT_ManualSave.h5\")"
      ]
    },
    {
      "cell_type": "markdown",
      "metadata": {
        "id": "TDc7fXQdemAR"
      },
      "source": [
        "## 4.1 Définition des optimisations"
      ]
    },
    {
      "cell_type": "markdown",
      "metadata": {
        "id": "p_NpzurTemAR"
      },
      "source": [
        "### 4.1.1 Optimisation de l'entrainement"
      ]
    },
    {
      "cell_type": "code",
      "execution_count": null,
      "metadata": {
        "id": "fFaSLAlEemAR"
      },
      "outputs": [],
      "source": [
        "from keras.callbacks import EarlyStopping, ReduceLROnPlateau, ModelCheckpoint, TensorBoard\n",
        "\n",
        "# Définition et paramètrage du early stopping\n",
        "# Définir l'arrêt anticipé (early stopping)\n",
        "early_stopping = EarlyStopping(\n",
        "    monitor = \"val_loss\",        # Métrique à surveiller\n",
        "    patience = 5,                # Nombre d'époques sans amélioration (environ 10% du nombre total d'époques)\n",
        "    verbose = 1,                 # Mode de verbosité (0, 1, ou 2)\n",
        "    restore_best_weights = True  # Restaurer les poids du modèle à la meilleure époque\n",
        ")\n",
        "\n",
        "# Définir le planificateur de taux d'apprentissage (learning rate scheduler)\n",
        "lr_scheduler = ReduceLROnPlateau(\n",
        "    monitor = \"val_loss\",       # Métrique à surveiller\n",
        "    factor = 0.2,               # Facteur par lequel réduire le taux d'apprentissage\n",
        "    patience = 5,               # Nombre d'époques sans amélioration (par défaut = 10)\n",
        "    verbose = 1,                # Mode de verbosité (0, 1, ou 2)\n",
        "    min_lr = 1e-6               # Taux d'apprentissage minimum\n",
        ")\n",
        "\n",
        "# Définir le rappel du point de contrôle du modèle (model checkpoint callback)\n",
        "checkpoint = ModelCheckpoint(\n",
        "    filepath = os.path.join(user_path, f\"{model_name}_H5_Model\", f\"{model_name}_TRAIN_MCPBest.h5\"),\n",
        "    monitor = \"val_loss\",       # Métrique à surveiller\n",
        "    save_freq = \"epoch\",        # Par défaut = epoch\n",
        "    save_weights_only = False,  # Par défaut = False\n",
        "    save_best_only = True,      # Sauvegarder uniquement si la métrique surveillée s'améliore\n",
        "    mode = \"min\",               # \"min\" si la perte est surveillée, \"max\" si la précision est surveillée\n",
        "    verbose = 1                 # Mode de verbosité (0, 1, ou 2)\n",
        ")\n",
        "\n",
        "# Définir les journaux TensorBoard\n",
        "log_dir = os.path.join(user_path, f\"{model_name}_LOGS_TRAIN\")\n",
        "tensorboard = TensorBoard(log_dir)\n",
        "\n",
        "# Inclure ces rappels dans la liste des rappels (callbacks list)\n",
        "callbacks_list = [early_stopping, lr_scheduler, checkpoint, tensorboard]\n"
      ]
    },
    {
      "cell_type": "markdown",
      "metadata": {
        "id": "WxGXRaB0emAR"
      },
      "source": [
        "### 4.1.2 Définition du Fine Tune"
      ]
    },
    {
      "cell_type": "code",
      "execution_count": null,
      "metadata": {
        "id": "v5iTOSvcemAR"
      },
      "outputs": [],
      "source": [
        "# Définir l'arrêt anticipé (early stopping)\n",
        "ft_early_stopping = EarlyStopping(\n",
        "    monitor = \"val_loss\",        # Métrique à surveiller\n",
        "    patience = 3,                # Nombre d'époques sans amélioration\n",
        "    verbose = 1,                 # Mode de verbosité (0, 1, ou 2)\n",
        "    restore_best_weights = True  # Restaurer les poids du modèle à la meilleure époque\n",
        ")\n",
        "\n",
        "# Définir le planificateur de taux d'apprentissage (learning rate scheduler)\n",
        "ft_lr_scheduler = ReduceLROnPlateau(\n",
        "    monitor = \"val_loss\",       # Métrique à surveiller\n",
        "    factor = 0.2,               # Facteur par lequel réduire le taux d'apprentissage\n",
        "    patience = 3,               # Nombre d'époques sans amélioration (par défaut = 10)\n",
        "    verbose = 1,                # Mode de verbosité (0, 1, ou 2)\n",
        "    min_lr = 1e-6               # Taux d'apprentissage minimum\n",
        ")\n",
        "\n",
        "# Définir le rappel du point de contrôle du modèle (model checkpoint callback)\n",
        "ft_checkpoint = ModelCheckpoint(\n",
        "    filepath = os.path.join(user_path, f\"{model_name}_H5_Model\", f\"{model_name}_FT_MCPBest.h5\"),\n",
        "    monitor = \"val_loss\",       # Métrique à surveiller\n",
        "    save_freq = \"epoch\",        # Par défaut = epoch\n",
        "    save_weights_only = False,  # Par défaut = False\n",
        "    save_best_only = True,      # Sauvegarder uniquement si la métrique surveillée s'améliore\n",
        "    mode = \"min\",               # \"min\" si la perte est surveillée, \"max\" si la précision est surveillée\n",
        "    verbose = 1                 # Mode de verbosité (0, 1, ou 2)\n",
        ")\n",
        "\n",
        "# Définir les journaux TensorBoard\n",
        "ft_log_dir = os.path.join(user_path, f\"{model_name}_LOGS_FT\")\n",
        "ft_tensorboard = TensorBoard(ft_log_dir)\n",
        "\n",
        "# Inclure ces rappels dans la liste des rappels (callbacks list)\n",
        "ft_callbacks_list = [ft_early_stopping, ft_lr_scheduler, ft_checkpoint, ft_tensorboard]\n"
      ]
    },
    {
      "cell_type": "markdown",
      "metadata": {
        "id": "9mbiLQu5emAS"
      },
      "source": [
        "## 4.2 Pré-entrainement du modèle"
      ]
    },
    {
      "cell_type": "markdown",
      "metadata": {
        "id": "Simr4Sq9emAS"
      },
      "source": [
        "### 4.2.1 Instancier un modèle de base avec un modèle pré-entraîné et des poids\n"
      ]
    },
    {
      "cell_type": "code",
      "execution_count": null,
      "metadata": {
        "id": "D-qDL6JJemAS"
      },
      "outputs": [],
      "source": [
        "# Instancier d'abord un modèle de base avec des poids pré-entraînés\n",
        "base_model = ModelNameFunc(\n",
        "    include_top = False,\n",
        "    weights = \"imagenet\",\n",
        "    include_preprocessing = False,\n",
        "    input_shape = (height, width, output_neurons)\n",
        ")\n"
      ]
    },
    {
      "cell_type": "code",
      "execution_count": null,
      "metadata": {
        "colab": {
          "base_uri": "https://localhost:8080/",
          "height": 34
        },
        "id": "jBbUEw4uemAS",
        "outputId": "0d99741a-0aa8-4abe-e26a-951a2c6eb20e"
      },
      "outputs": [
        {
          "output_type": "display_data",
          "data": {
            "text/plain": [
              "<KerasTensor: shape=(None, 240, 240, 3) dtype=float32 (created by layer 'input_2')>"
            ]
          },
          "metadata": {}
        }
      ],
      "source": [
        "display(base_model.input)"
      ]
    },
    {
      "cell_type": "markdown",
      "metadata": {
        "id": "pvqQ5ad0emAS"
      },
      "source": [
        "### 4.2.2 Définir la nouvelle architecture supérieure###"
      ]
    },
    {
      "cell_type": "code",
      "execution_count": null,
      "metadata": {
        "id": "giU2pX0memAT"
      },
      "outputs": [],
      "source": [
        "x = base_model.output\n",
        "x = GlobalAveragePooling2D()(x)\n",
        "x = Dense(l1_neurons, activation = l1_activation)(x)\n",
        "x = Dropout(dropout)(x)\n",
        "x = Dense(l2_neurons, activation = l2_activation)(x)\n",
        "x = BatchNormalization()(x)\n",
        "\n",
        "predictions = Dense(output_neurons, activation = output_activation)(x)\n",
        "\n",
        "model = Model(inputs = base_model.input, outputs = predictions)"
      ]
    },
    {
      "cell_type": "code",
      "execution_count": null,
      "metadata": {
        "colab": {
          "base_uri": "https://localhost:8080/"
        },
        "id": "S8o7cO_demAU",
        "outputId": "35555cb2-1142-4f2a-a4f3-768942afd25a"
      },
      "outputs": [
        {
          "output_type": "stream",
          "name": "stdout",
          "text": [
            "(None, 240, 240, 3)\n"
          ]
        }
      ],
      "source": [
        "print(model.input_shape)"
      ]
    },
    {
      "cell_type": "markdown",
      "metadata": {
        "id": "pE6xCasqemAU"
      },
      "source": [
        "### 4.2.3 Compilation du modèle"
      ]
    },
    {
      "cell_type": "code",
      "execution_count": null,
      "metadata": {
        "id": "CqwA0VQW3ztL"
      },
      "outputs": [],
      "source": [
        "model.compile(\n",
        "    optimizer = compile_optimizer,\n",
        "    loss = compile_loss,\n",
        "    metrics = compile_metrics\n",
        ")"
      ]
    },
    {
      "cell_type": "markdown",
      "metadata": {
        "id": "WoY0xFSYemAU"
      },
      "source": [
        "### 4.2.4 Pré-entrainement du modèle"
      ]
    },
    {
      "cell_type": "code",
      "execution_count": null,
      "metadata": {
        "colab": {
          "base_uri": "https://localhost:8080/"
        },
        "id": "adoTnFttVfmm",
        "outputId": "ba7279a8-21e9-43a2-a56c-dd77cef9be57"
      },
      "outputs": [
        {
          "output_type": "stream",
          "name": "stdout",
          "text": [
            "Epoch 1/30\n",
            "132/132 [==============================] - ETA: 0s - loss: 0.3480 - accuracy: 0.8810 - Precision: 0.9031 - Recall: 0.8569 - AUC: 0.9679\n",
            "Epoch 1: val_loss improved from inf to 0.15602, saving model to /content/drive/MyDrive/EfficientNetV2B1_H5_Model/EfficientNetV2B1_TRAIN_MCPBest.h5\n"
          ]
        },
        {
          "output_type": "stream",
          "name": "stderr",
          "text": [
            "/usr/local/lib/python3.10/dist-packages/keras/src/engine/training.py:3000: UserWarning: You are saving your model as an HDF5 file via `model.save()`. This file format is considered legacy. We recommend using instead the native Keras format, e.g. `model.save('my_model.keras')`.\n",
            "  saving_api.save_model(\n"
          ]
        },
        {
          "output_type": "stream",
          "name": "stdout",
          "text": [
            "\b\b\b\b\b\b\b\b\b\b\b\b\b\b\b\b\b\b\b\b\b\b\b\b\b\b\b\b\b\b\b\b\b\b\b\b\b\b\b\b\b\b\b\b\b\b\b\b\b\b\b\b\b\b\b\b\b\b\b\b\b\b\b\b\b\b\b\b\b\b\b\b\b\b\b\b\b\b\b\b\b\b\b\b\b\b\b\b\b\b\b\b\b\b\b\b\b\b\b\b\b\b\b\b\b\b\b\b\b\b\b\b\b\b\b\b\b\b\b\b\b\b\b\b\b\b\b\b\b\b\b\b\b\b\b\r132/132 [==============================] - 199s 1s/step - loss: 0.3480 - accuracy: 0.8810 - Precision: 0.9031 - Recall: 0.8569 - AUC: 0.9679 - val_loss: 0.1560 - val_accuracy: 0.9533 - val_Precision: 0.9571 - val_Recall: 0.9492 - val_AUC: 0.9927 - lr: 0.0010\n",
            "Epoch 2/30\n",
            "132/132 [==============================] - ETA: 0s - loss: 0.2285 - accuracy: 0.9302 - Precision: 0.9432 - Recall: 0.9205 - AUC: 0.9841\n",
            "Epoch 2: val_loss did not improve from 0.15602\n",
            "132/132 [==============================] - 123s 928ms/step - loss: 0.2285 - accuracy: 0.9302 - Precision: 0.9432 - Recall: 0.9205 - AUC: 0.9841 - val_loss: 0.1785 - val_accuracy: 0.9392 - val_Precision: 0.9468 - val_Recall: 0.9342 - val_AUC: 0.9906 - lr: 0.0010\n",
            "Epoch 3/30\n",
            "132/132 [==============================] - ETA: 0s - loss: 0.1780 - accuracy: 0.9464 - Precision: 0.9511 - Recall: 0.9410 - AUC: 0.9899\n",
            "Epoch 3: val_loss improved from 0.15602 to 0.04820, saving model to /content/drive/MyDrive/EfficientNetV2B1_H5_Model/EfficientNetV2B1_TRAIN_MCPBest.h5\n",
            "132/132 [==============================] - 122s 923ms/step - loss: 0.1780 - accuracy: 0.9464 - Precision: 0.9511 - Recall: 0.9410 - AUC: 0.9899 - val_loss: 0.0482 - val_accuracy: 0.9850 - val_Precision: 0.9858 - val_Recall: 0.9833 - val_AUC: 0.9994 - lr: 0.0010\n",
            "Epoch 4/30\n",
            "132/132 [==============================] - ETA: 0s - loss: 0.1519 - accuracy: 0.9474 - Precision: 0.9553 - Recall: 0.9414 - AUC: 0.9928\n",
            "Epoch 4: val_loss did not improve from 0.04820\n",
            "132/132 [==============================] - 120s 902ms/step - loss: 0.1519 - accuracy: 0.9474 - Precision: 0.9553 - Recall: 0.9414 - AUC: 0.9928 - val_loss: 0.0965 - val_accuracy: 0.9642 - val_Precision: 0.9682 - val_Recall: 0.9633 - val_AUC: 0.9975 - lr: 0.0010\n",
            "Epoch 5/30\n",
            "132/132 [==============================] - ETA: 0s - loss: 0.1322 - accuracy: 0.9579 - Precision: 0.9627 - Recall: 0.9533 - AUC: 0.9940\n",
            "Epoch 5: val_loss did not improve from 0.04820\n",
            "132/132 [==============================] - 118s 890ms/step - loss: 0.1322 - accuracy: 0.9579 - Precision: 0.9627 - Recall: 0.9533 - AUC: 0.9940 - val_loss: 0.0791 - val_accuracy: 0.9783 - val_Precision: 0.9791 - val_Recall: 0.9758 - val_AUC: 0.9967 - lr: 0.0010\n",
            "Epoch 6/30\n",
            "132/132 [==============================] - ETA: 0s - loss: 0.1130 - accuracy: 0.9648 - Precision: 0.9691 - Recall: 0.9626 - AUC: 0.9953\n",
            "Epoch 6: val_loss did not improve from 0.04820\n",
            "132/132 [==============================] - 119s 901ms/step - loss: 0.1130 - accuracy: 0.9648 - Precision: 0.9691 - Recall: 0.9626 - AUC: 0.9953 - val_loss: 0.1140 - val_accuracy: 0.9667 - val_Precision: 0.9682 - val_Recall: 0.9642 - val_AUC: 0.9944 - lr: 0.0010\n",
            "Epoch 7/30\n",
            "132/132 [==============================] - ETA: 0s - loss: 0.1218 - accuracy: 0.9626 - Precision: 0.9664 - Recall: 0.9598 - AUC: 0.9950\n",
            "Epoch 7: val_loss did not improve from 0.04820\n",
            "132/132 [==============================] - 118s 893ms/step - loss: 0.1218 - accuracy: 0.9626 - Precision: 0.9664 - Recall: 0.9598 - AUC: 0.9950 - val_loss: 0.0954 - val_accuracy: 0.9642 - val_Precision: 0.9649 - val_Recall: 0.9633 - val_AUC: 0.9976 - lr: 0.0010\n",
            "Epoch 8/30\n",
            "132/132 [==============================] - ETA: 0s - loss: 0.1057 - accuracy: 0.9671 - Precision: 0.9710 - Recall: 0.9633 - AUC: 0.9959Restoring model weights from the end of the best epoch: 3.\n",
            "\n",
            "Epoch 8: ReduceLROnPlateau reducing learning rate to 0.00020000000949949026.\n",
            "\n",
            "Epoch 8: val_loss did not improve from 0.04820\n",
            "132/132 [==============================] - 120s 908ms/step - loss: 0.1057 - accuracy: 0.9671 - Precision: 0.9710 - Recall: 0.9633 - AUC: 0.9959 - val_loss: 0.0696 - val_accuracy: 0.9800 - val_Precision: 0.9800 - val_Recall: 0.9800 - val_AUC: 0.9980 - lr: 0.0010\n",
            "Epoch 8: early stopping\n"
          ]
        }
      ],
      "source": [
        "history = model.fit(\n",
        "    x = train_generator,\n",
        "    steps_per_epoch = train_generator.samples // batch_size + 1,\n",
        "    validation_data = val_generator,\n",
        "    validation_steps = val_generator.samples // batch_size + 1,\n",
        "    epochs = epochs,\n",
        "    verbose = verbose,\n",
        "    callbacks = callbacks_list\n",
        ")\n",
        "\n",
        "# Save the model\n",
        "model.save(fileh5_path)"
      ]
    },
    {
      "cell_type": "markdown",
      "metadata": {
        "id": "8iiuHWqLemAU"
      },
      "source": [
        "### 4.2.5 Evaluation du pré-entrainement"
      ]
    },
    {
      "cell_type": "code",
      "execution_count": null,
      "metadata": {
        "colab": {
          "base_uri": "https://localhost:8080/"
        },
        "id": "5UGmvkjkemAV",
        "outputId": "d9acd5d4-49de-444c-c784-48c832da0972"
      },
      "outputs": [
        {
          "output_type": "stream",
          "name": "stdout",
          "text": [
            "Evaluate on Test Data\n",
            "19/19 [==============================] - 7s 363ms/step - loss: 0.0533 - accuracy: 0.9867 - Precision: 0.9883 - Recall: 0.9850 - AUC: 0.9979\n"
          ]
        }
      ],
      "source": [
        "# Évaluer le modèle sur les données de test à l'aide de la fonction `evaluate`\n",
        "print(\"Evaluate on Test Data\")\n",
        "results = model.evaluate(test_generator, batch_size = batch_size)"
      ]
    },
    {
      "cell_type": "markdown",
      "metadata": {
        "id": "6eqcc8IVemAV"
      },
      "source": [
        "### 4.2.6 Visualisation de l'accuracy et de la \"loss\""
      ]
    },
    {
      "cell_type": "code",
      "execution_count": null,
      "metadata": {
        "colab": {
          "base_uri": "https://localhost:8080/",
          "height": 472
        },
        "id": "ZcYwDKRgbQ16",
        "outputId": "63a70b57-c5a6-47ec-d389-9237d3f4df51"
      },
      "outputs": [
        {
          "output_type": "display_data",
          "data": {
            "text/plain": [
              "<Figure size 640x480 with 1 Axes>"
            ],
            "image/png": "[encoded data removed]"
          },
          "metadata": {}
        }
      ],
      "source": [
        "# Graphique de la \"Loss\"\n",
        "plt.plot(history.history[\"loss\"])\n",
        "plt.plot(history.history[\"val_loss\"])\n",
        "plt.title(\"Model Loss\")\n",
        "plt.ylabel(\"Loss\")\n",
        "plt.xlabel(\"Epoch\")\n",
        "plt.legend([\"Train\", \"Val\"], loc = \"upper left\")\n",
        "plt.show()"
      ]
    },
    {
      "cell_type": "code",
      "execution_count": null,
      "metadata": {
        "colab": {
          "base_uri": "https://localhost:8080/",
          "height": 472
        },
        "id": "jSetJ8JLaw0d",
        "outputId": "88eb52ff-ad31-4635-92c5-573765d11b58"
      },
      "outputs": [
        {
          "output_type": "display_data",
          "data": {
            "text/plain": [
              "<Figure size 640x480 with 1 Axes>"
            ],
            "image/png": "[encoded data removed]"
          },
          "metadata": {}
        }
      ],
      "source": [
        "# Graphique de l'accuracy\n",
        "plt.plot(history.history[\"accuracy\"])\n",
        "plt.plot(history.history[\"val_accuracy\"])\n",
        "plt.title(\"Model Accuracy\")\n",
        "plt.ylabel(\"Accuracy\")\n",
        "plt.xlabel(\"Epoch\")\n",
        "plt.legend([\"Train\", \"Val\"], loc = \"lower left\")\n",
        "plt.show()"
      ]
    },
    {
      "cell_type": "markdown",
      "metadata": {
        "id": "hqprai0IemAV"
      },
      "source": [
        "### 4.2.7 Matrice de confusion"
      ]
    },
    {
      "cell_type": "code",
      "execution_count": null,
      "metadata": {
        "colab": {
          "base_uri": "https://localhost:8080/"
        },
        "id": "MbrOycwIemAV",
        "outputId": "4aeae4db-90fb-425f-d5b3-9634e31ec5a0"
      },
      "outputs": [
        {
          "output_type": "stream",
          "name": "stdout",
          "text": [
            "19/19 [==============================] - 8s 301ms/step\n",
            "Confusion Matrix\n",
            "[[200   0   0]\n",
            " [  3 197   0]\n",
            " [  4   1 195]]\n",
            "True\n",
            "Classification Report\n",
            "                    precision    recall  f1-score   support\n",
            "\n",
            "      BEE_SELECTED       0.97      1.00      0.98       200\n",
            "BUTTERFLY_SELECTED       0.99      0.98      0.99       200\n",
            "  LADYBUG_SELECTED       1.00      0.97      0.99       200\n",
            "\n",
            "          accuracy                           0.99       600\n",
            "         macro avg       0.99      0.99      0.99       600\n",
            "      weighted avg       0.99      0.99      0.99       600\n",
            "\n"
          ]
        }
      ],
      "source": [
        "# Prédire les valeurs à partir de l'ensemble de validation\n",
        "Y_pred = model.predict(test_generator, steps = test_generator.samples // batch_size + 1)\n",
        "\n",
        "# Convertir les classes des prédictions à partir de vecteurs one hot\n",
        "Y_pred_classes = np.argmax(Y_pred, axis = 1)\n",
        "\n",
        "# Convertir les observations de validation à partir de vecteurs one hot\n",
        "# Y_true = np.argmax(test_generator.classes, axis = 1)\n",
        "# OU\n",
        "Y_true = test_generator.classes\n",
        "\n",
        "# Calculer la matrice de confusion\n",
        "cm = confusion_matrix(Y_true, Y_pred_classes)\n",
        "\n",
        "# Afficher la matrice de confusion\n",
        "print(\"Matrice de Confusion\")\n",
        "print(cm)\n",
        "\n",
        "# Récupérer les noms de classe (étiquette)\n",
        "noms_from_dir = sorted(os.listdir(val_dir))\n",
        "dict(enumerate(noms_from_dir))\n",
        "# OU\n",
        "class_names = list(val_generator.class_indices.keys())\n",
        "# Vérifier si les deux sont similaires\n",
        "print(noms_from_dir == class_names)\n",
        "\n",
        "# Afficher le rapport de classification\n",
        "print(\"Rapport de Classification\")\n",
        "print(classification_report(Y_true, Y_pred_classes, target_names = class_names))\n"
      ]
    },
    {
      "cell_type": "markdown",
      "metadata": {
        "id": "0FHYNA8remAV"
      },
      "source": [
        "### 4.2.8 Création d'une fonction pour la matrice de confusion"
      ]
    },
    {
      "cell_type": "code",
      "execution_count": null,
      "metadata": {
        "id": "PXFnJO7DemAW"
      },
      "outputs": [],
      "source": [
        "def plot_confusion_matrix(\n",
        "    cm,\n",
        "    classes,\n",
        "    normalize = False,\n",
        "    title = \"Matrice de confusion\",\n",
        "    cmap = plt.cm.Blues):\n",
        "    \"\"\"\n",
        "    Cette fonction affiche et trace la matrice de confusion.\n",
        "    La normalisation peut être appliquée en définissant `normalize=True`.\n",
        "    \"\"\"\n",
        "    if normalize:\n",
        "        cm = cm.astype(\"float\") / cm.sum(axis = 1)[:, np.newaxis]\n",
        "        print(\"Matrice de confusion normalisée\")\n",
        "    else:\n",
        "        print('Matrice de confusion non normalisée')\n",
        "\n",
        "    print(cm)\n",
        "    plt.imshow(cm, interpolation = \"nearest\", cmap = cmap)\n",
        "    plt.title(title)\n",
        "    plt.colorbar()\n",
        "    plt.tight_layout()\n",
        "    plt.ylabel(\"Étiquette réelle\")\n",
        "    plt.xlabel(\"Étiquette prédite\")\n"
      ]
    },
    {
      "cell_type": "markdown",
      "metadata": {
        "id": "1Tobn0_TemAW"
      },
      "source": [
        "### 4.2.9 Affichage de la matrice de confusion sous forme de graphique"
      ]
    },
    {
      "cell_type": "code",
      "execution_count": null,
      "metadata": {
        "colab": {
          "base_uri": "https://localhost:8080/",
          "height": 575
        },
        "id": "EsYucxKnemAW",
        "outputId": "d37073dc-e464-433e-8881-5d3e792ec226"
      },
      "outputs": [
        {
          "output_type": "stream",
          "name": "stdout",
          "text": [
            "Normalized confusion matrix\n",
            "[[1.    0.    0.   ]\n",
            " [0.015 0.985 0.   ]\n",
            " [0.02  0.005 0.975]]\n"
          ]
        },
        {
          "output_type": "display_data",
          "data": {
            "text/plain": [
              "<Figure size 640x480 with 2 Axes>"
            ],
            "image/png": "[encoded data removed]"
          },
          "metadata": {}
        }
      ],
      "source": [
        "plot_confusion_matrix(\n",
        "    cm,\n",
        "    class_names,\n",
        "    normalize = True,\n",
        "    title = \"Matrice de confusion\",\n",
        "    cmap = plt.cm.Blues\n",
        "    )"
      ]
    },
    {
      "cell_type": "markdown",
      "metadata": {
        "id": "rUduj1TQemAW"
      },
      "source": [
        "## 5. Fine Tuning\n",
        "Cela nécessite de débloquer le modèle de base, puis de recompiler le modèle (nécessaire pour que les changements prennent effet), et ensuite de reprendre l'entraînement.\n"
      ]
    },
    {
      "cell_type": "markdown",
      "metadata": {
        "id": "1jr26ClbemAX"
      },
      "source": [
        "### 5.1. Unfreeze le modèle de base"
      ]
    },
    {
      "cell_type": "code",
      "execution_count": null,
      "metadata": {
        "id": "g7Gja-vdVfmu"
      },
      "outputs": [],
      "source": [
        "# Unfreeze le modèle de base\n",
        "base_model.trainable = True"
      ]
    },
    {
      "cell_type": "markdown",
      "metadata": {
        "id": "ZPuMJ9P-emAX"
      },
      "source": [
        "### 5.2 Re compilation du modèle"
      ]
    },
    {
      "cell_type": "code",
      "execution_count": null,
      "metadata": {
        "id": "znuOlyvHVfmu"
      },
      "outputs": [],
      "source": [
        "model.compile(\n",
        "    optimizer = ft_compile_optimizer,\n",
        "    loss = ft_compile_loss,\n",
        "    metrics = ft_compile_metrics\n",
        ")"
      ]
    },
    {
      "cell_type": "markdown",
      "metadata": {
        "id": "hoBSjhcWemAX"
      },
      "source": [
        "### 5.3 Ré-entrainement du modèle"
      ]
    },
    {
      "cell_type": "code",
      "execution_count": null,
      "metadata": {
        "colab": {
          "base_uri": "https://localhost:8080/"
        },
        "id": "D0BUO93kVfmv",
        "outputId": "d5f09669-d26a-452e-9dc1-b40b34f96681"
      },
      "outputs": [
        {
          "output_type": "stream",
          "name": "stdout",
          "text": [
            "Epoch 1/15\n",
            "132/132 [==============================] - ETA: 0s - loss: 0.1204 - accuracy: 0.9664 - Precision: 0.9727 - Recall: 0.9635 - AUC: 0.9952\n",
            "Epoch 1: val_loss improved from inf to 0.04212, saving model to /content/drive/MyDrive/EfficientNetV2B1_H5_Model/EfficientNetV2B1_FT_MCPBest.h5\n"
          ]
        },
        {
          "output_type": "stream",
          "name": "stderr",
          "text": [
            "/usr/local/lib/python3.10/dist-packages/keras/src/engine/training.py:3000: UserWarning: You are saving your model as an HDF5 file via `model.save()`. This file format is considered legacy. We recommend using instead the native Keras format, e.g. `model.save('my_model.keras')`.\n",
            "  saving_api.save_model(\n"
          ]
        },
        {
          "output_type": "stream",
          "name": "stdout",
          "text": [
            "\b\b\b\b\b\b\b\b\b\b\b\b\b\b\b\b\b\b\b\b\b\b\b\b\b\b\b\b\b\b\b\b\b\b\b\b\b\b\b\b\b\b\b\b\b\b\b\b\b\b\b\b\b\b\b\b\b\b\b\b\b\b\b\b\b\b\b\b\b\b\b\b\b\b\b\b\b\b\b\b\b\b\b\b\b\b\b\b\b\b\b\b\b\b\b\b\b\b\b\b\b\b\b\b\b\b\b\b\b\b\b\b\b\b\b\b\b\b\b\b\b\b\b\b\b\b\b\b\b\b\b\b\b\b\b\r132/132 [==============================] - 167s 916ms/step - loss: 0.1204 - accuracy: 0.9664 - Precision: 0.9727 - Recall: 0.9635 - AUC: 0.9952 - val_loss: 0.0421 - val_accuracy: 0.9867 - val_Precision: 0.9883 - val_Recall: 0.9842 - val_AUC: 0.9995 - lr: 1.0000e-05\n",
            "Epoch 2/15\n",
            "132/132 [==============================] - ETA: 0s - loss: 0.1175 - accuracy: 0.9655 - Precision: 0.9711 - Recall: 0.9593 - AUC: 0.9955\n",
            "Epoch 2: val_loss did not improve from 0.04212\n",
            "132/132 [==============================] - 120s 905ms/step - loss: 0.1175 - accuracy: 0.9655 - Precision: 0.9711 - Recall: 0.9593 - AUC: 0.9955 - val_loss: 0.0466 - val_accuracy: 0.9850 - val_Precision: 0.9883 - val_Recall: 0.9825 - val_AUC: 0.9995 - lr: 1.0000e-05\n",
            "Epoch 3/15\n",
            "132/132 [==============================] - ETA: 0s - loss: 0.0989 - accuracy: 0.9729 - Precision: 0.9774 - Recall: 0.9681 - AUC: 0.9967\n",
            "Epoch 3: val_loss improved from 0.04212 to 0.04167, saving model to /content/drive/MyDrive/EfficientNetV2B1_H5_Model/EfficientNetV2B1_FT_MCPBest.h5\n",
            "132/132 [==============================] - 120s 905ms/step - loss: 0.0989 - accuracy: 0.9729 - Precision: 0.9774 - Recall: 0.9681 - AUC: 0.9967 - val_loss: 0.0417 - val_accuracy: 0.9883 - val_Precision: 0.9891 - val_Recall: 0.9875 - val_AUC: 0.9996 - lr: 1.0000e-05\n",
            "Epoch 4/15\n",
            "132/132 [==============================] - ETA: 0s - loss: 0.0899 - accuracy: 0.9755 - Precision: 0.9801 - Recall: 0.9721 - AUC: 0.9973\n",
            "Epoch 4: val_loss did not improve from 0.04167\n",
            "132/132 [==============================] - 127s 959ms/step - loss: 0.0899 - accuracy: 0.9755 - Precision: 0.9801 - Recall: 0.9721 - AUC: 0.9973 - val_loss: 0.0439 - val_accuracy: 0.9867 - val_Precision: 0.9883 - val_Recall: 0.9842 - val_AUC: 0.9996 - lr: 1.0000e-05\n",
            "Epoch 5/15\n",
            "132/132 [==============================] - ETA: 0s - loss: 0.0978 - accuracy: 0.9719 - Precision: 0.9769 - Recall: 0.9671 - AUC: 0.9969\n",
            "Epoch 5: val_loss improved from 0.04167 to 0.04080, saving model to /content/drive/MyDrive/EfficientNetV2B1_H5_Model/EfficientNetV2B1_FT_MCPBest.h5\n",
            "132/132 [==============================] - 123s 929ms/step - loss: 0.0978 - accuracy: 0.9719 - Precision: 0.9769 - Recall: 0.9671 - AUC: 0.9969 - val_loss: 0.0408 - val_accuracy: 0.9867 - val_Precision: 0.9867 - val_Recall: 0.9858 - val_AUC: 0.9996 - lr: 1.0000e-05\n",
            "Epoch 6/15\n",
            "132/132 [==============================] - ETA: 0s - loss: 0.0847 - accuracy: 0.9774 - Precision: 0.9813 - Recall: 0.9733 - AUC: 0.9976\n",
            "Epoch 6: val_loss improved from 0.04080 to 0.03938, saving model to /content/drive/MyDrive/EfficientNetV2B1_H5_Model/EfficientNetV2B1_FT_MCPBest.h5\n",
            "132/132 [==============================] - 120s 910ms/step - loss: 0.0847 - accuracy: 0.9774 - Precision: 0.9813 - Recall: 0.9733 - AUC: 0.9976 - val_loss: 0.0394 - val_accuracy: 0.9883 - val_Precision: 0.9891 - val_Recall: 0.9867 - val_AUC: 0.9996 - lr: 1.0000e-05\n",
            "Epoch 7/15\n",
            "132/132 [==============================] - ETA: 0s - loss: 0.0907 - accuracy: 0.9757 - Precision: 0.9803 - Recall: 0.9719 - AUC: 0.9975\n",
            "Epoch 7: val_loss improved from 0.03938 to 0.03518, saving model to /content/drive/MyDrive/EfficientNetV2B1_H5_Model/EfficientNetV2B1_FT_MCPBest.h5\n",
            "132/132 [==============================] - 122s 920ms/step - loss: 0.0907 - accuracy: 0.9757 - Precision: 0.9803 - Recall: 0.9719 - AUC: 0.9975 - val_loss: 0.0352 - val_accuracy: 0.9925 - val_Precision: 0.9925 - val_Recall: 0.9908 - val_AUC: 0.9997 - lr: 1.0000e-05\n",
            "Epoch 8/15\n",
            "132/132 [==============================] - ETA: 0s - loss: 0.0876 - accuracy: 0.9750 - Precision: 0.9791 - Recall: 0.9719 - AUC: 0.9973\n",
            "Epoch 8: val_loss did not improve from 0.03518\n",
            "132/132 [==============================] - 117s 886ms/step - loss: 0.0876 - accuracy: 0.9750 - Precision: 0.9791 - Recall: 0.9719 - AUC: 0.9973 - val_loss: 0.0360 - val_accuracy: 0.9900 - val_Precision: 0.9900 - val_Recall: 0.9883 - val_AUC: 0.9997 - lr: 1.0000e-05\n",
            "Epoch 9/15\n",
            "132/132 [==============================] - ETA: 0s - loss: 0.0824 - accuracy: 0.9762 - Precision: 0.9796 - Recall: 0.9736 - AUC: 0.9977\n",
            "Epoch 9: val_loss improved from 0.03518 to 0.03219, saving model to /content/drive/MyDrive/EfficientNetV2B1_H5_Model/EfficientNetV2B1_FT_MCPBest.h5\n",
            "132/132 [==============================] - 123s 940ms/step - loss: 0.0824 - accuracy: 0.9762 - Precision: 0.9796 - Recall: 0.9736 - AUC: 0.9977 - val_loss: 0.0322 - val_accuracy: 0.9917 - val_Precision: 0.9925 - val_Recall: 0.9917 - val_AUC: 0.9998 - lr: 1.0000e-05\n",
            "Epoch 10/15\n",
            "132/132 [==============================] - ETA: 0s - loss: 0.0806 - accuracy: 0.9802 - Precision: 0.9823 - Recall: 0.9776 - AUC: 0.9974\n",
            "Epoch 10: val_loss did not improve from 0.03219\n",
            "132/132 [==============================] - 120s 911ms/step - loss: 0.0806 - accuracy: 0.9802 - Precision: 0.9823 - Recall: 0.9776 - AUC: 0.9974 - val_loss: 0.0352 - val_accuracy: 0.9917 - val_Precision: 0.9917 - val_Recall: 0.9900 - val_AUC: 0.9997 - lr: 1.0000e-05\n",
            "Epoch 11/15\n",
            "132/132 [==============================] - ETA: 0s - loss: 0.0817 - accuracy: 0.9812 - Precision: 0.9830 - Recall: 0.9779 - AUC: 0.9975\n",
            "Epoch 11: val_loss did not improve from 0.03219\n",
            "132/132 [==============================] - 120s 907ms/step - loss: 0.0817 - accuracy: 0.9812 - Precision: 0.9830 - Recall: 0.9779 - AUC: 0.9975 - val_loss: 0.0343 - val_accuracy: 0.9900 - val_Precision: 0.9925 - val_Recall: 0.9900 - val_AUC: 0.9997 - lr: 1.0000e-05\n",
            "Epoch 12/15\n",
            "132/132 [==============================] - ETA: 0s - loss: 0.0799 - accuracy: 0.9783 - Precision: 0.9820 - Recall: 0.9748 - AUC: 0.9979\n",
            "Epoch 12: val_loss improved from 0.03219 to 0.03194, saving model to /content/drive/MyDrive/EfficientNetV2B1_H5_Model/EfficientNetV2B1_FT_MCPBest.h5\n",
            "132/132 [==============================] - 122s 926ms/step - loss: 0.0799 - accuracy: 0.9783 - Precision: 0.9820 - Recall: 0.9748 - AUC: 0.9979 - val_loss: 0.0319 - val_accuracy: 0.9925 - val_Precision: 0.9925 - val_Recall: 0.9908 - val_AUC: 0.9998 - lr: 1.0000e-05\n",
            "Epoch 13/15\n",
            "132/132 [==============================] - ETA: 0s - loss: 0.0837 - accuracy: 0.9774 - Precision: 0.9801 - Recall: 0.9743 - AUC: 0.9978\n",
            "Epoch 13: val_loss improved from 0.03194 to 0.03070, saving model to /content/drive/MyDrive/EfficientNetV2B1_H5_Model/EfficientNetV2B1_FT_MCPBest.h5\n",
            "132/132 [==============================] - 119s 899ms/step - loss: 0.0837 - accuracy: 0.9774 - Precision: 0.9801 - Recall: 0.9743 - AUC: 0.9978 - val_loss: 0.0307 - val_accuracy: 0.9908 - val_Precision: 0.9916 - val_Recall: 0.9892 - val_AUC: 0.9998 - lr: 1.0000e-05\n",
            "Epoch 14/15\n",
            "132/132 [==============================] - ETA: 0s - loss: 0.0625 - accuracy: 0.9855 - Precision: 0.9861 - Recall: 0.9829 - AUC: 0.9990\n",
            "Epoch 14: val_loss improved from 0.03070 to 0.02974, saving model to /content/drive/MyDrive/EfficientNetV2B1_H5_Model/EfficientNetV2B1_FT_MCPBest.h5\n",
            "132/132 [==============================] - 124s 941ms/step - loss: 0.0625 - accuracy: 0.9855 - Precision: 0.9861 - Recall: 0.9829 - AUC: 0.9990 - val_loss: 0.0297 - val_accuracy: 0.9900 - val_Precision: 0.9908 - val_Recall: 0.9892 - val_AUC: 0.9998 - lr: 1.0000e-05\n",
            "Epoch 15/15\n",
            "132/132 [==============================] - ETA: 0s - loss: 0.0786 - accuracy: 0.9786 - Precision: 0.9816 - Recall: 0.9776 - AUC: 0.9978\n",
            "Epoch 15: val_loss did not improve from 0.02974\n",
            "132/132 [==============================] - 119s 903ms/step - loss: 0.0786 - accuracy: 0.9786 - Precision: 0.9816 - Recall: 0.9776 - AUC: 0.9978 - val_loss: 0.0315 - val_accuracy: 0.9925 - val_Precision: 0.9933 - val_Recall: 0.9917 - val_AUC: 0.9997 - lr: 1.0000e-05\n"
          ]
        }
      ],
      "source": [
        "# Reprendre l'entraînement\n",
        "ft_history = model.fit(\n",
        "    x = train_generator,\n",
        "    steps_per_epoch = train_generator.samples // batch_size + 1,\n",
        "    validation_data = val_generator,\n",
        "    validation_steps = val_generator.samples // batch_size + 1,\n",
        "    epochs = ft_epochs,\n",
        "    verbose = ft_verbose,\n",
        "    callbacks = ft_callbacks_list\n",
        ")\n",
        "\n",
        "# Sauvegarder le modèle affiné\n",
        "model.save(ft_fileh5_path)\n"
      ]
    },
    {
      "cell_type": "markdown",
      "metadata": {
        "id": "tp5tHxoDemAX"
      },
      "source": [
        "### 5.3.1 Evaluation du Fine Tune Model"
      ]
    },
    {
      "cell_type": "code",
      "execution_count": null,
      "metadata": {
        "colab": {
          "base_uri": "https://localhost:8080/"
        },
        "id": "0JY5yHOUemAX",
        "outputId": "39b8e430-1525-44b5-8c58-ca481562373b"
      },
      "outputs": [
        {
          "output_type": "stream",
          "name": "stdout",
          "text": [
            "Evaluate on Test Data\n",
            "19/19 [==============================] - 4s 218ms/step - loss: 0.0328 - accuracy: 0.9900 - Precision: 0.9950 - Recall: 0.9883 - AUC: 0.9998\n"
          ]
        }
      ],
      "source": [
        "# Évaluer le modèle sur les données de test en utilisant `evaluate`\n",
        "print(\"Évaluation sur les données de test\")\n",
        "results = model.evaluate(test_generator, batch_size = batch_size)\n"
      ]
    },
    {
      "cell_type": "code",
      "execution_count": null,
      "metadata": {
        "colab": {
          "base_uri": "https://localhost:8080/",
          "height": 472
        },
        "id": "C2CpxXM6emAX",
        "outputId": "37ebf014-3aa1-4a06-bc01-487cb9f68acf"
      },
      "outputs": [
        {
          "output_type": "display_data",
          "data": {
            "text/plain": [
              "<Figure size 640x480 with 1 Axes>"
            ],
            "image/png": "[encoded data removed]"
          },
          "metadata": {}
        }
      ],
      "source": [
        "# Tracer le graphique de la perte\n",
        "plt.plot(ft_history.history[\"loss\"])\n",
        "plt.plot(ft_history.history[\"val_loss\"])\n",
        "plt.title(\"Perte du Modèle\")\n",
        "plt.ylabel(\"perte\")\n",
        "plt.xlabel(\"époque\")\n",
        "plt.legend([\"Entraînement\", \"Validation\"], loc = \"upper left\")\n",
        "plt.show()\n"
      ]
    },
    {
      "cell_type": "code",
      "execution_count": null,
      "metadata": {
        "colab": {
          "base_uri": "https://localhost:8080/",
          "height": 472
        },
        "id": "2wl--aB2emAY",
        "outputId": "af0f911a-61bb-4d1a-bc51-4a3fec6a3e7b"
      },
      "outputs": [
        {
          "output_type": "display_data",
          "data": {
            "text/plain": [
              "<Figure size 640x480 with 1 Axes>"
            ],
            "image/png": "[encoded data removed]"
          },
          "metadata": {}
        }
      ],
      "source": [
        "# Tracer le graphique de la précision\n",
        "plt.plot(ft_history.history[\"accuracy\"])\n",
        "plt.plot(ft_history.history[\"val_accuracy\"])\n",
        "plt.title(\"Précision du Modèle\")\n",
        "plt.ylabel(\"Précision\")\n",
        "plt.xlabel(\"Époque\")\n",
        "plt.legend([\"Entraînement\", \"Validation\"], loc = \"lower left\")\n",
        "plt.show()\n"
      ]
    },
    {
      "cell_type": "markdown",
      "metadata": {
        "id": "YzNW1-r5emAY"
      },
      "source": [
        "### 5.3.2 Matrice de confusion du Fine Tuned Model"
      ]
    },
    {
      "cell_type": "code",
      "execution_count": null,
      "metadata": {
        "colab": {
          "base_uri": "https://localhost:8080/"
        },
        "id": "Rt6H6HZQemAY",
        "outputId": "71047314-9833-4672-d051-03ccd41a628b"
      },
      "outputs": [
        {
          "output_type": "stream",
          "name": "stdout",
          "text": [
            "19/19 [==============================] - 7s 384ms/step\n",
            "Confusion Matrix\n",
            "[[200   0   0]\n",
            " [  3 197   0]\n",
            " [  1   2 197]]\n",
            "True\n",
            "Classification Report\n",
            "                    precision    recall  f1-score   support\n",
            "\n",
            "      BEE_SELECTED     0.9804    1.0000    0.9901       200\n",
            "BUTTERFLY_SELECTED     0.9899    0.9850    0.9875       200\n",
            "  LADYBUG_SELECTED     1.0000    0.9850    0.9924       200\n",
            "\n",
            "          accuracy                         0.9900       600\n",
            "         macro avg     0.9901    0.9900    0.9900       600\n",
            "      weighted avg     0.9901    0.9900    0.9900       600\n",
            "\n"
          ]
        }
      ],
      "source": [
        "# Prédire les valeurs à partir de l'ensemble de validation\n",
        "Y_pred = model.predict(test_generator, steps = test_generator.samples // batch_size + 1)\n",
        "\n",
        "# Convertir les classes des prédictions à partir de vecteurs one hot\n",
        "Y_pred_classes = np.argmax(Y_pred, axis = 1)\n",
        "\n",
        "# Convertir les observations de validation à partir de vecteurs one hot\n",
        "# Y_true = np.argmax(test_generator.classes, axis = 1)\n",
        "# OU\n",
        "Y_true = test_generator.classes\n",
        "\n",
        "# Calculer la matrice de confusion\n",
        "cm = confusion_matrix(Y_true, Y_pred_classes)\n",
        "\n",
        "# Afficher la matrice de confusion\n",
        "print(\"Matrice de Confusion\")\n",
        "print(cm)\n",
        "\n",
        "# Récupérer les noms de classe (étiquette)\n",
        "noms_from_dir = sorted(os.listdir(val_dir))\n",
        "dict(enumerate(noms_from_dir))\n",
        "# OU\n",
        "class_names = list(val_generator.class_indices.keys())\n",
        "# Vérifier si les deux sont similaires\n",
        "print(noms_from_dir == class_names)\n",
        "\n",
        "# Afficher le rapport de classification\n",
        "print(\"Rapport de Classification\")\n",
        "print(classification_report(Y_true, Y_pred_classes, target_names = class_names, digits = 4))\n"
      ]
    },
    {
      "cell_type": "markdown",
      "metadata": {
        "id": "dW0qAMUiemAY"
      },
      "source": [
        "### 5.3.3 Graphique de la Matrice de confusion concernant le Fine Tuned Model"
      ]
    },
    {
      "cell_type": "code",
      "execution_count": null,
      "metadata": {
        "colab": {
          "base_uri": "https://localhost:8080/",
          "height": 575
        },
        "id": "J69Fg9hzVfm3",
        "outputId": "09f2919b-a8de-4a96-a0f7-3dbc0210f3cb"
      },
      "outputs": [
        {
          "output_type": "stream",
          "name": "stdout",
          "text": [
            "Normalized confusion matrix\n",
            "[[1.    0.    0.   ]\n",
            " [0.015 0.985 0.   ]\n",
            " [0.005 0.01  0.985]]\n"
          ]
        },
        {
          "output_type": "display_data",
          "data": {
            "text/plain": [
              "<Figure size 640x480 with 2 Axes>"
            ],
            "image/png": "[encoded data removed]"
          },
          "metadata": {}
        }
      ],
      "source": [
        "plot_confusion_matrix(cm,\n",
        "                      class_names,\n",
        "                      normalize = True,\n",
        "                      title = \"Matrice de confusion\",\n",
        "                      cmap = plt.cm.Blues\n",
        "                      )"
      ]
    },
    {
      "cell_type": "markdown",
      "metadata": {
        "id": "DB1kqS62emAY"
      },
      "source": [
        "### 5.3.4 Quelques métriques du modèle affiné\n"
      ]
    },
    {
      "cell_type": "code",
      "execution_count": null,
      "metadata": {
        "id": "gikmVZURVfm3",
        "outputId": "2af92954-105c-47a4-97e5-319971eabe0e",
        "colab": {
          "base_uri": "https://localhost:8080/"
        }
      },
      "outputs": [
        {
          "output_type": "stream",
          "name": "stdout",
          "text": [
            "Précision : 0.9901139685354878\n",
            "Recall : 0.9899999999999999\n",
            "F1 score : 0.9900036688390719\n"
          ]
        }
      ],
      "source": [
        "from sklearn.metrics import precision_score, recall_score, f1_score\n",
        "\n",
        "# Calcul de la précision\n",
        "precision = precision_score(test_generator.classes, Y_pred_classes, average='macro') # average macro, calcul individuel par classe attribut le même poids à chaque classe\n",
        "# Calcul du recall\n",
        "recall = recall_score(test_generator.classes, Y_pred_classes, average='macro')\n",
        "\n",
        "# Calcul du F1 score\n",
        "f1 = f1_score(test_generator.classes, Y_pred_classes, average='macro')\n",
        "\n",
        "# Affichage des résultats\n",
        "print(\"Précision :\", precision)\n",
        "print(\"Recall :\", recall)\n",
        "print(\"F1 score :\", f1)"
      ]
    },
    {
      "cell_type": "code",
      "execution_count": null,
      "metadata": {
        "id": "5tSHNT6xVfm4",
        "outputId": "5a219ab9-13de-4d29-efed-8109e9957d61",
        "colab": {
          "base_uri": "https://localhost:8080/"
        }
      },
      "outputs": [
        {
          "output_type": "stream",
          "name": "stdout",
          "text": [
            "Précision : 0.9901139685354879\n",
            "Recall : 0.99\n",
            "F1 score : 0.9900036688390719\n"
          ]
        }
      ],
      "source": [
        "# Calcul de la précision\n",
        "precision = precision_score(test_generator.classes, Y_pred_classes, average='weighted')\n",
        "# average Weighted, calcul individuel par classe pour pondéré en fonction du poids de chaque classe\n",
        "\n",
        "# Calcul du recall\n",
        "recall = recall_score(test_generator.classes, Y_pred_classes, average='weighted')\n",
        "\n",
        "# Calcul du F1 score\n",
        "f1 = f1_score(test_generator.classes, Y_pred_classes, average='weighted')\n",
        "\n",
        "# Affichage des résultats\n",
        "print(\"Précision :\", precision)\n",
        "print(\"Recall :\", recall)\n",
        "print(\"F1 score :\", f1)"
      ]
    },
    {
      "cell_type": "code",
      "execution_count": null,
      "metadata": {
        "id": "itIL7dcDVfnJ",
        "outputId": "26aeffe5-275b-4993-ad6c-2a85855a9f58",
        "colab": {
          "base_uri": "https://localhost:8080/"
        }
      },
      "outputs": [
        {
          "output_type": "stream",
          "name": "stdout",
          "text": [
            "Précision : 0.99\n",
            "Recall : 0.99\n",
            "F1 score : 0.99\n"
          ]
        }
      ],
      "source": [
        "precision = precision_score(test_generator.classes, Y_pred_classes, average='micro')\n",
        "# average micro, Calcule la précision globale en agrégeant les vrais positifs, faux positifs et faux négatifs sur toutes les classes\n",
        "\n",
        "# Calcul du recall\n",
        "recall = recall_score(test_generator.classes, Y_pred_classes, average='micro')\n",
        "\n",
        "# Calcul du F1 score\n",
        "f1 = f1_score(test_generator.classes, Y_pred_classes, average='micro')\n",
        "\n",
        "# Affichage des résultats\n",
        "print(\"Précision :\", precision)\n",
        "print(\"Recall :\", recall)\n",
        "print(\"F1 score :\", f1)"
      ]
    }
  ],
  "metadata": {
    "accelerator": "GPU",
    "colab": {
      "gpuType": "T4",
      "provenance": []
    },
    "kernelspec": {
      "display_name": "Python 3",
      "name": "python3"
    },
    "language_info": {
      "codemirror_mode": {
        "name": "ipython",
        "version": 3
      },
      "file_extension": ".py",
      "mimetype": "text/x-python",
      "name": "python",
      "nbconvert_exporter": "python",
      "pygments_lexer": "ipython3",
      "version": "3.11.5"
    }
  },
  "nbformat": 4,
  "nbformat_minor": 0
}